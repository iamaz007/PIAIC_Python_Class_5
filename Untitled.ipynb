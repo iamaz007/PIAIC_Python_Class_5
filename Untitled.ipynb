{
 "cells": [
  {
   "cell_type": "code",
   "execution_count": 13,
   "metadata": {
    "scrolled": true
   },
   "outputs": [
    {
     "name": "stdout",
     "output_type": "stream",
     "text": [
      "Area of circle, when r=8.7: 237.66659999999996\n",
      "Area of circle, when r=9.2: 265.76959999999997\n",
      "Area of circle, when r=16.03: 806.8572260000001\n"
     ]
    }
   ],
   "source": [
    "# 1- Calculate area of circle\n",
    "def calcArea(r):\n",
    "    pi=3.14\n",
    "    return pi*r*r\n",
    "\n",
    "r_value=[8.7, 9.2, 16.03]\n",
    "for x in r_value:\n",
    "    print('Area of circle, when r={}: '.format(x)+str(calcArea(x)),end='\\n')"
   ]
  },
  {
   "cell_type": "code",
   "execution_count": 14,
   "metadata": {},
   "outputs": [
    {
     "name": "stdout",
     "output_type": "stream",
     "text": [
      "Enter some strings to search: javascript\n",
      "not found! at index:0\n",
      "not found! at index:1\n",
      "not found! at index:2\n",
      "not found! at index:3\n",
      "not found! at index:4\n",
      "result(s) found:javascript at index:5\n",
      "not found! at index:6\n",
      "not found! at index:7\n",
      "not found! at index:8\n"
     ]
    }
   ],
   "source": [
    "# 2- Write function to check if a value exists in a list\n",
    "\n",
    "def checkVal():\n",
    "    ind=0\n",
    "    data = [\"python\", \"r\", \"java\", \"pascal\", \"c\", \"javascript\", \"assembley\", \"html\", \"c++\"]\n",
    "    f=input(\"Enter some strings to search: \")\n",
    "    for ind in range(len(data)):\n",
    "    # print(data[ind])\n",
    "        if data[ind] == f:\n",
    "            print('result(s) found:{} at index:{}'.format(f,ind))\n",
    "        else:\n",
    "            print('not found! at index:{}'.format(ind))\n",
    "            \n",
    "checkVal()"
   ]
  },
  {
   "cell_type": "code",
   "execution_count": 15,
   "metadata": {},
   "outputs": [
    {
     "name": "stdout",
     "output_type": "stream",
     "text": [
      "Enter value to shift array: 2\n"
     ]
    },
    {
     "data": {
      "text/plain": [
       "['html',\n",
       " 'c++',\n",
       " 'python',\n",
       " 'r',\n",
       " 'java',\n",
       " 'pascal',\n",
       " 'c',\n",
       " 'javascript',\n",
       " 'assembley']"
      ]
     },
     "execution_count": 15,
     "metadata": {},
     "output_type": "execute_result"
    }
   ],
   "source": [
    "# 3- a function to shift list item to right n times\n",
    "def shiftItems(array, shift_value):\n",
    "    for x in range(0,shift_value):\n",
    "        # logic to shift array 1 times\n",
    "        array = [array[-1]] + array[:-1]\n",
    "    return array\n",
    "\n",
    "data = [\"python\", \"r\", \"java\", \"pascal\", \"c\", \"javascript\", \"assembley\", \"html\", \"c++\"]\n",
    "shiftItems(data,int(input('Enter value to shift array: ')))"
   ]
  },
  {
   "cell_type": "code",
   "execution_count": 16,
   "metadata": {},
   "outputs": [
    {
     "name": "stdout",
     "output_type": "stream",
     "text": [
      "Enter radius value: 3\n",
      "28.259999999999998\n",
      "Enter radius value: 8\n",
      "200.96\n",
      "Enter radius value: 6\n",
      "113.03999999999999\n",
      "Enter radius value: quit\n"
     ]
    }
   ],
   "source": [
    "# 4- find area of circle usng while loop\n",
    "a=True\n",
    "pi=3.14\n",
    "while a:\n",
    "    r=input('Enter radius value: ')\n",
    "    if r=='quit':\n",
    "        a=False\n",
    "    else:\n",
    "        areaCircle=pi*int(r)*int(r)\n",
    "        print(areaCircle)"
   ]
  },
  {
   "cell_type": "code",
   "execution_count": 25,
   "metadata": {},
   "outputs": [
    {
     "name": "stdout",
     "output_type": "stream",
     "text": [
      "Hello az\n",
      "Here is your result for class of AI.\n",
      "Your score card is as follows.\n",
      "ClassMarks:\n",
      "\tmath : 50 \n",
      "\tphysics : 80 \n",
      "\tbiology : 90 \n",
      "\tcomputer : 67 \n",
      "Total marks are: 287 \n",
      "Percentage is as follows: 71.75%\n",
      "Maximum marks are in \"biology\"\n",
      "Minimum marks are in \"math\"\n",
      "You are promoted to next class.\n"
     ]
    }
   ],
   "source": [
    "# 5- Function with **kwargs\n",
    "\n",
    "# # function to return key for any value \n",
    "def func(dicto):\n",
    "    print_dic=\"\"\n",
    "    total_mark=0\n",
    "    for subjects, marks in dicto.items():\n",
    "        print_dic +=\"\\n\\t{} : {} \".format(subjects,marks)\n",
    "        # calculate total marks\n",
    "        total_mark+=marks\n",
    "        \n",
    "    # average find\n",
    "    avg = total_mark/len(dicto)\n",
    "    \n",
    "    # finding min marks\n",
    "    min_marks = min(dicto.values())\n",
    "    \n",
    "    # finding max marks\n",
    "    max_marks = max(dicto.values())\n",
    "    \n",
    "    # working on this, to get key of max/min value(subject/course name)\n",
    "    for key, value in dicto.items(): \n",
    "        if max_marks == value: \n",
    "            max_mess='Maximum marks are in \"'+key+'\"'\n",
    "        if min_marks == value: \n",
    "            min_mess='Minimum marks are in \"'+key+'\"' \n",
    "            \n",
    "    # concatinating all strings\n",
    "    str1 = '\\nTotal marks are: '+str(total_mark)+' \\nPercentage is as follows: '+str(avg)+'%\\n'+str(max_mess)+'\\n'+str(min_mess)+''\n",
    "    final_str = print_dic + str1\n",
    "    return final_str\n",
    "\n",
    "\n",
    "# function defination\n",
    "def showDetails(**dicto):\n",
    "    if dicto['nextClass'] == True:\n",
    "        m='Hello '+ dicto['name'] + '\\nHere is your result for class of '+ dicto['class_name'] + '.\\nYour score card is as follows.\\nClassMarks:'+ func(dicto['marks']) + '\\nYou are promoted to next class.'\n",
    "        print(m)\n",
    "    else:\n",
    "        m='Hello '+ dicto['name'] + '\\nHere is your result for class of '+ dicto['class_name'] + '.\\nYour score card is as follows.\\nClassMarks:'+ func(dicto['marks']) + '\\nYou are not promoted to next class.'\n",
    "        print(m)\n",
    "    \n",
    "# calling function, with some arguments\n",
    "showDetails(name = \"az\", class_name = \"AI\", marks = {\"math\" : 50, \"physics\" : 80, \"biology\" : 90, \"computer\" : 67}, date = \"1 Feb 2020\", nextClass = True)\n"
   ]
  },
  {
   "cell_type": "code",
   "execution_count": null,
   "metadata": {},
   "outputs": [],
   "source": []
  },
  {
   "cell_type": "code",
   "execution_count": null,
   "metadata": {},
   "outputs": [],
   "source": []
  }
 ],
 "metadata": {
  "kernelspec": {
   "display_name": "Python 3",
   "language": "python",
   "name": "python3"
  },
  "language_info": {
   "codemirror_mode": {
    "name": "ipython",
    "version": 3
   },
   "file_extension": ".py",
   "mimetype": "text/x-python",
   "name": "python",
   "nbconvert_exporter": "python",
   "pygments_lexer": "ipython3",
   "version": "3.7.4"
  }
 },
 "nbformat": 4,
 "nbformat_minor": 2
}
